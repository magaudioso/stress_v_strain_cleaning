{
 "cells": [
  {
   "cell_type": "markdown",
   "metadata": {},
   "source": [
    "#### Import relevant libraries"
   ]
  },
  {
   "cell_type": "code",
   "execution_count": 435,
   "metadata": {},
   "outputs": [],
   "source": [
    "import pandas as pd\n",
    "import numpy as np\n",
    "import scipy as sp\n",
    "import matplotlib.pyplot as plt\n",
    "import statsmodels.api\n",
    "from matplotlib import style\n",
    "style.use('default')\n"
   ]
  },
  {
   "cell_type": "markdown",
   "metadata": {},
   "source": [
    "### Input parameters"
   ]
  },
  {
   "cell_type": "code",
   "execution_count": 436,
   "metadata": {},
   "outputs": [],
   "source": [
    "raw_data = pd.read_csv('D:\\\\National Research Council of Canada\\\\Testing Data\\\\Quasi-isotropic_organized\\\\QI1 bottom\\\\data\\\\QI1_preprocessed.csv')\n",
    "shift_index = 11 #need to determine this from csv\n",
    "gauge_length = 50 #it is always 50 mm unless told otherwise\n",
    "area = 18.53 # in sq mm (from reference sheet)"
   ]
  },
  {
   "cell_type": "markdown",
   "metadata": {},
   "source": [
    "#### Look for the max of the laser extensometer"
   ]
  },
  {
   "cell_type": "code",
   "execution_count": 437,
   "metadata": {},
   "outputs": [
    {
     "data": {
      "text/plain": [
       "50.981972"
      ]
     },
     "execution_count": 437,
     "metadata": {},
     "output_type": "execute_result"
    }
   ],
   "source": [
    "cutoff_point = raw_data['Laser Ext mm'].max()\n",
    "cutoff_point"
   ]
  },
  {
   "cell_type": "markdown",
   "metadata": {},
   "source": [
    "#### Look for the index of the max of the laser extensometer"
   ]
  },
  {
   "cell_type": "code",
   "execution_count": 438,
   "metadata": {},
   "outputs": [
    {
     "data": {
      "text/plain": [
       "8048"
      ]
     },
     "execution_count": 438,
     "metadata": {},
     "output_type": "execute_result"
    }
   ],
   "source": [
    "cutoff_index = raw_data[raw_data['Laser Ext mm'] == cutoff_point].index.values\n",
    "cutoff_index += 1\n",
    "cutoff_index[0]"
   ]
  },
  {
   "cell_type": "markdown",
   "metadata": {},
   "source": [
    "#### Cut off the dataframe below the max of the laser extensometer"
   ]
  },
  {
   "cell_type": "code",
   "execution_count": 439,
   "metadata": {},
   "outputs": [
    {
     "data": {
      "text/html": [
       "<div>\n",
       "<style scoped>\n",
       "    .dataframe tbody tr th:only-of-type {\n",
       "        vertical-align: middle;\n",
       "    }\n",
       "\n",
       "    .dataframe tbody tr th {\n",
       "        vertical-align: top;\n",
       "    }\n",
       "\n",
       "    .dataframe thead th {\n",
       "        text-align: right;\n",
       "    }\n",
       "</style>\n",
       "<table border=\"1\" class=\"dataframe\">\n",
       "  <thead>\n",
       "    <tr style=\"text-align: right;\">\n",
       "      <th></th>\n",
       "      <th>Time s</th>\n",
       "      <th>Axial Displacement mm</th>\n",
       "      <th>Axial Force N</th>\n",
       "      <th>Laser Ext mm</th>\n",
       "    </tr>\n",
       "  </thead>\n",
       "  <tbody>\n",
       "    <tr>\n",
       "      <th>0</th>\n",
       "      <td>14.140625</td>\n",
       "      <td>0.102860</td>\n",
       "      <td>41.001213</td>\n",
       "      <td>50.271378</td>\n",
       "    </tr>\n",
       "    <tr>\n",
       "      <th>1</th>\n",
       "      <td>14.160645</td>\n",
       "      <td>0.102422</td>\n",
       "      <td>-10.625508</td>\n",
       "      <td>50.271385</td>\n",
       "    </tr>\n",
       "    <tr>\n",
       "      <th>2</th>\n",
       "      <td>14.180664</td>\n",
       "      <td>0.100751</td>\n",
       "      <td>42.543945</td>\n",
       "      <td>50.270435</td>\n",
       "    </tr>\n",
       "    <tr>\n",
       "      <th>3</th>\n",
       "      <td>14.200684</td>\n",
       "      <td>0.101653</td>\n",
       "      <td>-3.749769</td>\n",
       "      <td>50.268631</td>\n",
       "    </tr>\n",
       "    <tr>\n",
       "      <th>4</th>\n",
       "      <td>14.220703</td>\n",
       "      <td>0.101984</td>\n",
       "      <td>22.997656</td>\n",
       "      <td>50.269764</td>\n",
       "    </tr>\n",
       "    <tr>\n",
       "      <th>...</th>\n",
       "      <td>...</td>\n",
       "      <td>...</td>\n",
       "      <td>...</td>\n",
       "      <td>...</td>\n",
       "    </tr>\n",
       "    <tr>\n",
       "      <th>8043</th>\n",
       "      <td>175.157710</td>\n",
       "      <td>3.680603</td>\n",
       "      <td>4773.661100</td>\n",
       "      <td>50.976540</td>\n",
       "    </tr>\n",
       "    <tr>\n",
       "      <th>8044</th>\n",
       "      <td>175.177730</td>\n",
       "      <td>3.680352</td>\n",
       "      <td>4738.680700</td>\n",
       "      <td>50.979176</td>\n",
       "    </tr>\n",
       "    <tr>\n",
       "      <th>8045</th>\n",
       "      <td>175.197750</td>\n",
       "      <td>3.680600</td>\n",
       "      <td>4770.127400</td>\n",
       "      <td>50.978806</td>\n",
       "    </tr>\n",
       "    <tr>\n",
       "      <th>8046</th>\n",
       "      <td>175.217770</td>\n",
       "      <td>3.681544</td>\n",
       "      <td>4749.221200</td>\n",
       "      <td>50.979557</td>\n",
       "    </tr>\n",
       "    <tr>\n",
       "      <th>8047</th>\n",
       "      <td>175.237790</td>\n",
       "      <td>3.682463</td>\n",
       "      <td>4756.723600</td>\n",
       "      <td>50.981972</td>\n",
       "    </tr>\n",
       "  </tbody>\n",
       "</table>\n",
       "<p>8048 rows × 4 columns</p>\n",
       "</div>"
      ],
      "text/plain": [
       "          Time s  Axial Displacement mm  Axial Force N  Laser Ext mm\n",
       "0      14.140625               0.102860      41.001213     50.271378\n",
       "1      14.160645               0.102422     -10.625508     50.271385\n",
       "2      14.180664               0.100751      42.543945     50.270435\n",
       "3      14.200684               0.101653      -3.749769     50.268631\n",
       "4      14.220703               0.101984      22.997656     50.269764\n",
       "...          ...                    ...            ...           ...\n",
       "8043  175.157710               3.680603    4773.661100     50.976540\n",
       "8044  175.177730               3.680352    4738.680700     50.979176\n",
       "8045  175.197750               3.680600    4770.127400     50.978806\n",
       "8046  175.217770               3.681544    4749.221200     50.979557\n",
       "8047  175.237790               3.682463    4756.723600     50.981972\n",
       "\n",
       "[8048 rows x 4 columns]"
      ]
     },
     "execution_count": 439,
     "metadata": {},
     "output_type": "execute_result"
    }
   ],
   "source": [
    "data = raw_data[:cutoff_index[0]]\n",
    "data"
   ]
  },
  {
   "cell_type": "markdown",
   "metadata": {},
   "source": [
    "### Data cleaning"
   ]
  },
  {
   "cell_type": "code",
   "execution_count": 440,
   "metadata": {},
   "outputs": [],
   "source": [
    "data.astype(float)\n",
    "data = data.round(decimals = 5)"
   ]
  },
  {
   "cell_type": "code",
   "execution_count": 441,
   "metadata": {},
   "outputs": [],
   "source": [
    "data['Shifted Axial Displacement mm'] = (data['Axial Displacement mm'])-(data['Axial Displacement mm'][shift_index])\n"
   ]
  },
  {
   "cell_type": "code",
   "execution_count": 442,
   "metadata": {
    "scrolled": true
   },
   "outputs": [],
   "source": [
    "data['Std Calculated mm/mm'] = (data['Shifted Axial Displacement mm'])/gauge_length"
   ]
  },
  {
   "cell_type": "code",
   "execution_count": 443,
   "metadata": {},
   "outputs": [],
   "source": [
    "data['Axial Strain mm/mm'] = (data['Laser Ext mm']) - (data['Laser Ext mm'][shift_index])"
   ]
  },
  {
   "cell_type": "code",
   "execution_count": 444,
   "metadata": {},
   "outputs": [],
   "source": [
    "data['Axial Stress MPa'] = ((data['Axial Force N'])/(area))"
   ]
  },
  {
   "cell_type": "code",
   "execution_count": 445,
   "metadata": {},
   "outputs": [
    {
     "data": {
      "text/html": [
       "<div>\n",
       "<style scoped>\n",
       "    .dataframe tbody tr th:only-of-type {\n",
       "        vertical-align: middle;\n",
       "    }\n",
       "\n",
       "    .dataframe tbody tr th {\n",
       "        vertical-align: top;\n",
       "    }\n",
       "\n",
       "    .dataframe thead th {\n",
       "        text-align: right;\n",
       "    }\n",
       "</style>\n",
       "<table border=\"1\" class=\"dataframe\">\n",
       "  <thead>\n",
       "    <tr style=\"text-align: right;\">\n",
       "      <th></th>\n",
       "      <th>Time s</th>\n",
       "      <th>Axial Displacement mm</th>\n",
       "      <th>Axial Force N</th>\n",
       "      <th>Laser Ext mm</th>\n",
       "      <th>Shifted Axial Displacement mm</th>\n",
       "      <th>Std Calculated mm/mm</th>\n",
       "      <th>Axial Strain mm/mm</th>\n",
       "      <th>Axial Stress MPa</th>\n",
       "      <th>Laser Strain Quotient mm/mm</th>\n",
       "    </tr>\n",
       "  </thead>\n",
       "  <tbody>\n",
       "    <tr>\n",
       "      <th>0</th>\n",
       "      <td>14.14062</td>\n",
       "      <td>0.10286</td>\n",
       "      <td>41.00121</td>\n",
       "      <td>50.27138</td>\n",
       "      <td>-0.00073</td>\n",
       "      <td>-0.000015</td>\n",
       "      <td>0.00385</td>\n",
       "      <td>2.212693</td>\n",
       "      <td>-0.54276</td>\n",
       "    </tr>\n",
       "    <tr>\n",
       "      <th>1</th>\n",
       "      <td>14.16064</td>\n",
       "      <td>0.10242</td>\n",
       "      <td>-10.62551</td>\n",
       "      <td>50.27138</td>\n",
       "      <td>-0.00117</td>\n",
       "      <td>-0.000023</td>\n",
       "      <td>0.00385</td>\n",
       "      <td>-0.573422</td>\n",
       "      <td>-0.54276</td>\n",
       "    </tr>\n",
       "    <tr>\n",
       "      <th>2</th>\n",
       "      <td>14.18066</td>\n",
       "      <td>0.10075</td>\n",
       "      <td>42.54394</td>\n",
       "      <td>50.27044</td>\n",
       "      <td>-0.00284</td>\n",
       "      <td>-0.000057</td>\n",
       "      <td>0.00291</td>\n",
       "      <td>2.295949</td>\n",
       "      <td>-0.54088</td>\n",
       "    </tr>\n",
       "    <tr>\n",
       "      <th>3</th>\n",
       "      <td>14.20068</td>\n",
       "      <td>0.10165</td>\n",
       "      <td>-3.74977</td>\n",
       "      <td>50.26863</td>\n",
       "      <td>-0.00194</td>\n",
       "      <td>-0.000039</td>\n",
       "      <td>0.00110</td>\n",
       "      <td>-0.202362</td>\n",
       "      <td>-0.53726</td>\n",
       "    </tr>\n",
       "    <tr>\n",
       "      <th>4</th>\n",
       "      <td>14.22070</td>\n",
       "      <td>0.10198</td>\n",
       "      <td>22.99766</td>\n",
       "      <td>50.26976</td>\n",
       "      <td>-0.00161</td>\n",
       "      <td>-0.000032</td>\n",
       "      <td>0.00223</td>\n",
       "      <td>1.241104</td>\n",
       "      <td>-0.53952</td>\n",
       "    </tr>\n",
       "    <tr>\n",
       "      <th>...</th>\n",
       "      <td>...</td>\n",
       "      <td>...</td>\n",
       "      <td>...</td>\n",
       "      <td>...</td>\n",
       "      <td>...</td>\n",
       "      <td>...</td>\n",
       "      <td>...</td>\n",
       "      <td>...</td>\n",
       "      <td>...</td>\n",
       "    </tr>\n",
       "    <tr>\n",
       "      <th>8043</th>\n",
       "      <td>175.15771</td>\n",
       "      <td>3.68060</td>\n",
       "      <td>4773.66110</td>\n",
       "      <td>50.97654</td>\n",
       "      <td>3.57701</td>\n",
       "      <td>0.071540</td>\n",
       "      <td>0.70901</td>\n",
       "      <td>257.617976</td>\n",
       "      <td>-1.95308</td>\n",
       "    </tr>\n",
       "    <tr>\n",
       "      <th>8044</th>\n",
       "      <td>175.17773</td>\n",
       "      <td>3.68035</td>\n",
       "      <td>4738.68070</td>\n",
       "      <td>50.97918</td>\n",
       "      <td>3.57676</td>\n",
       "      <td>0.071535</td>\n",
       "      <td>0.71165</td>\n",
       "      <td>255.730205</td>\n",
       "      <td>-1.95836</td>\n",
       "    </tr>\n",
       "    <tr>\n",
       "      <th>8045</th>\n",
       "      <td>175.19775</td>\n",
       "      <td>3.68060</td>\n",
       "      <td>4770.12740</td>\n",
       "      <td>50.97881</td>\n",
       "      <td>3.57701</td>\n",
       "      <td>0.071540</td>\n",
       "      <td>0.71128</td>\n",
       "      <td>257.427275</td>\n",
       "      <td>-1.95762</td>\n",
       "    </tr>\n",
       "    <tr>\n",
       "      <th>8046</th>\n",
       "      <td>175.21777</td>\n",
       "      <td>3.68154</td>\n",
       "      <td>4749.22120</td>\n",
       "      <td>50.97956</td>\n",
       "      <td>3.57795</td>\n",
       "      <td>0.071559</td>\n",
       "      <td>0.71203</td>\n",
       "      <td>256.299039</td>\n",
       "      <td>-1.95912</td>\n",
       "    </tr>\n",
       "    <tr>\n",
       "      <th>8047</th>\n",
       "      <td>175.23779</td>\n",
       "      <td>3.68246</td>\n",
       "      <td>4756.72360</td>\n",
       "      <td>50.98197</td>\n",
       "      <td>3.57887</td>\n",
       "      <td>0.071577</td>\n",
       "      <td>0.71444</td>\n",
       "      <td>256.703918</td>\n",
       "      <td>-1.96394</td>\n",
       "    </tr>\n",
       "  </tbody>\n",
       "</table>\n",
       "<p>8048 rows × 9 columns</p>\n",
       "</div>"
      ],
      "text/plain": [
       "         Time s  Axial Displacement mm  Axial Force N  Laser Ext mm  \\\n",
       "0      14.14062                0.10286       41.00121      50.27138   \n",
       "1      14.16064                0.10242      -10.62551      50.27138   \n",
       "2      14.18066                0.10075       42.54394      50.27044   \n",
       "3      14.20068                0.10165       -3.74977      50.26863   \n",
       "4      14.22070                0.10198       22.99766      50.26976   \n",
       "...         ...                    ...            ...           ...   \n",
       "8043  175.15771                3.68060     4773.66110      50.97654   \n",
       "8044  175.17773                3.68035     4738.68070      50.97918   \n",
       "8045  175.19775                3.68060     4770.12740      50.97881   \n",
       "8046  175.21777                3.68154     4749.22120      50.97956   \n",
       "8047  175.23779                3.68246     4756.72360      50.98197   \n",
       "\n",
       "      Shifted Axial Displacement mm  Std Calculated mm/mm  Axial Strain mm/mm  \\\n",
       "0                          -0.00073             -0.000015             0.00385   \n",
       "1                          -0.00117             -0.000023             0.00385   \n",
       "2                          -0.00284             -0.000057             0.00291   \n",
       "3                          -0.00194             -0.000039             0.00110   \n",
       "4                          -0.00161             -0.000032             0.00223   \n",
       "...                             ...                   ...                 ...   \n",
       "8043                        3.57701              0.071540             0.70901   \n",
       "8044                        3.57676              0.071535             0.71165   \n",
       "8045                        3.57701              0.071540             0.71128   \n",
       "8046                        3.57795              0.071559             0.71203   \n",
       "8047                        3.57887              0.071577             0.71444   \n",
       "\n",
       "      Axial Stress MPa  Laser Strain Quotient mm/mm  \n",
       "0             2.212693                     -0.54276  \n",
       "1            -0.573422                     -0.54276  \n",
       "2             2.295949                     -0.54088  \n",
       "3            -0.202362                     -0.53726  \n",
       "4             1.241104                     -0.53952  \n",
       "...                ...                          ...  \n",
       "8043        257.617976                     -1.95308  \n",
       "8044        255.730205                     -1.95836  \n",
       "8045        257.427275                     -1.95762  \n",
       "8046        256.299039                     -1.95912  \n",
       "8047        256.703918                     -1.96394  \n",
       "\n",
       "[8048 rows x 9 columns]"
      ]
     },
     "execution_count": 445,
     "metadata": {},
     "output_type": "execute_result"
    }
   ],
   "source": [
    "data['Laser Strain Quotient mm/mm'] = ((1-((data['Laser Ext mm'])/(gauge_length)))*100)\n",
    "data"
   ]
  },
  {
   "cell_type": "markdown",
   "metadata": {},
   "source": [
    "### Data summary table"
   ]
  },
  {
   "cell_type": "code",
   "execution_count": 446,
   "metadata": {},
   "outputs": [
    {
     "data": {
      "text/html": [
       "<div>\n",
       "<style scoped>\n",
       "    .dataframe tbody tr th:only-of-type {\n",
       "        vertical-align: middle;\n",
       "    }\n",
       "\n",
       "    .dataframe tbody tr th {\n",
       "        vertical-align: top;\n",
       "    }\n",
       "\n",
       "    .dataframe thead th {\n",
       "        text-align: right;\n",
       "    }\n",
       "</style>\n",
       "<table border=\"1\" class=\"dataframe\">\n",
       "  <thead>\n",
       "    <tr style=\"text-align: right;\">\n",
       "      <th></th>\n",
       "      <th>Time s</th>\n",
       "      <th>Axial Displacement mm</th>\n",
       "      <th>Axial Force N</th>\n",
       "      <th>Laser Ext mm</th>\n",
       "      <th>Shifted Axial Displacement mm</th>\n",
       "      <th>Std Calculated mm/mm</th>\n",
       "      <th>Axial Strain mm/mm</th>\n",
       "      <th>Axial Stress MPa</th>\n",
       "      <th>Laser Strain Quotient mm/mm</th>\n",
       "    </tr>\n",
       "  </thead>\n",
       "  <tbody>\n",
       "    <tr>\n",
       "      <th>mean</th>\n",
       "      <td>94.689209</td>\n",
       "      <td>1.935989</td>\n",
       "      <td>2872.204373</td>\n",
       "      <td>50.688187</td>\n",
       "      <td>1.832399</td>\n",
       "      <td>0.036648</td>\n",
       "      <td>0.420657</td>\n",
       "      <td>155.002934</td>\n",
       "      <td>-1.376375</td>\n",
       "    </tr>\n",
       "    <tr>\n",
       "      <th>std_err</th>\n",
       "      <td>0.005779</td>\n",
       "      <td>0.000125</td>\n",
       "      <td>0.170098</td>\n",
       "      <td>0.000026</td>\n",
       "      <td>0.000125</td>\n",
       "      <td>0.000003</td>\n",
       "      <td>0.000026</td>\n",
       "      <td>0.009180</td>\n",
       "      <td>0.000052</td>\n",
       "    </tr>\n",
       "    <tr>\n",
       "      <th>coef_var</th>\n",
       "      <td>0.491222</td>\n",
       "      <td>0.521104</td>\n",
       "      <td>0.476619</td>\n",
       "      <td>0.004089</td>\n",
       "      <td>0.550563</td>\n",
       "      <td>0.550563</td>\n",
       "      <td>0.492770</td>\n",
       "      <td>0.476619</td>\n",
       "      <td>-0.301208</td>\n",
       "    </tr>\n",
       "  </tbody>\n",
       "</table>\n",
       "</div>"
      ],
      "text/plain": [
       "             Time s  Axial Displacement mm  Axial Force N  Laser Ext mm  \\\n",
       "mean      94.689209               1.935989    2872.204373     50.688187   \n",
       "std_err    0.005779               0.000125       0.170098      0.000026   \n",
       "coef_var   0.491222               0.521104       0.476619      0.004089   \n",
       "\n",
       "          Shifted Axial Displacement mm  Std Calculated mm/mm  \\\n",
       "mean                           1.832399              0.036648   \n",
       "std_err                        0.000125              0.000003   \n",
       "coef_var                       0.550563              0.550563   \n",
       "\n",
       "          Axial Strain mm/mm  Axial Stress MPa  Laser Strain Quotient mm/mm  \n",
       "mean                0.420657        155.002934                    -1.376375  \n",
       "std_err             0.000026          0.009180                     0.000052  \n",
       "coef_var            0.492770          0.476619                    -0.301208  "
      ]
     },
     "execution_count": 446,
     "metadata": {},
     "output_type": "execute_result"
    }
   ],
   "source": [
    "data_summary = statsmodels.stats.descriptivestats.describe(data, ['mean', 'std_err', 'coef_var'])\n",
    "data_summary"
   ]
  },
  {
   "cell_type": "markdown",
   "metadata": {},
   "source": [
    "## Plot the data"
   ]
  },
  {
   "cell_type": "markdown",
   "metadata": {},
   "source": [
    "### Plot #1 \n",
    "Force vs. Displacement"
   ]
  },
  {
   "cell_type": "code",
   "execution_count": 454,
   "metadata": {},
   "outputs": [
    {
     "data": {
      "image/png": "[encoded data removed]",
      "text/plain": [
       "<Figure size 640x480 with 1 Axes>"
      ]
     },
     "metadata": {},
     "output_type": "display_data"
    }
   ],
   "source": [
    "x = data['Shifted Axial Displacement mm']\n",
    "y = data['Axial Force N']\n",
    "plt.xlabel('Displacement (mm)')\n",
    "plt.ylabel('Load (N)')\n",
    "plt.plot(x,y)\n",
    "\n",
    "plt.savefig('D:\\\\National Research Council of Canada\\\\Testing Data\\\\Quasi-isotropic_organized\\\\QI1 bottom\\\\QI1bottom_force_v_displacement.png', dpi = 300)"
   ]
  },
  {
   "cell_type": "markdown",
   "metadata": {},
   "source": [
    "\n",
    "## Plot #2\n",
    "Stress v. Strain"
   ]
  },
  {
   "cell_type": "code",
   "execution_count": 455,
   "metadata": {},
   "outputs": [
    {
     "data": {
      "image/png": "[encoded data removed]",
      "text/plain": [
       "<Figure size 640x480 with 1 Axes>"
      ]
     },
     "metadata": {},
     "output_type": "display_data"
    }
   ],
   "source": [
    "x = data['Axial Strain mm/mm']\n",
    "y = data['Axial Stress MPa']\n",
    "plt.xlabel('Axial Strain (mm/mm)')\n",
    "plt.ylabel('Stress (MPa)')\n",
    "plt.plot(x,y)\n",
    "plt.savefig('D:\\\\National Research Council of Canada\\\\Testing Data\\\\Quasi-isotropic_organized\\\\QI1 bottom\\\\QI1bottom_stress_v_axialstrain.png', dpi = 300)"
   ]
  },
  {
   "cell_type": "markdown",
   "metadata": {},
   "source": [
    "### Find the trendline and Elastic Modulus"
   ]
  },
  {
   "cell_type": "code",
   "execution_count": 449,
   "metadata": {},
   "outputs": [
    {
     "name": "stdout",
     "output_type": "stream",
     "text": [
      "The elastic modulus is = 356.2941584527795\n",
      "y = 356.294158x+(5.125174)\n"
     ]
    }
   ],
   "source": [
    "z = np.polyfit(x,y,1)\n",
    "elastic_modulus = z[0]\n",
    "print('The elastic modulus is = ' + str(elastic_modulus))\n",
    "p = np.poly1d(z)\n",
    "#the equation of the line\n",
    "print(\"y = %.6fx+(%.6f)\"%(z[0],z[1]))"
   ]
  },
  {
   "cell_type": "code",
   "execution_count": 450,
   "metadata": {},
   "outputs": [
    {
     "data": {
      "text/html": [
       "<div>\n",
       "<style scoped>\n",
       "    .dataframe tbody tr th:only-of-type {\n",
       "        vertical-align: middle;\n",
       "    }\n",
       "\n",
       "    .dataframe tbody tr th {\n",
       "        vertical-align: top;\n",
       "    }\n",
       "\n",
       "    .dataframe thead th {\n",
       "        text-align: right;\n",
       "    }\n",
       "</style>\n",
       "<table border=\"1\" class=\"dataframe\">\n",
       "  <thead>\n",
       "    <tr style=\"text-align: right;\">\n",
       "      <th></th>\n",
       "      <th>Time s</th>\n",
       "      <th>Axial Displacement mm</th>\n",
       "      <th>Axial Force N</th>\n",
       "      <th>Laser Ext mm</th>\n",
       "      <th>Shifted Axial Displacement mm</th>\n",
       "      <th>Std Calculated mm/mm</th>\n",
       "      <th>Axial Strain mm/mm</th>\n",
       "      <th>Axial Stress MPa</th>\n",
       "      <th>Laser Strain Quotient mm/mm</th>\n",
       "      <th>Elastic Modulus</th>\n",
       "      <th>Ultimate Tensile Strength</th>\n",
       "    </tr>\n",
       "  </thead>\n",
       "  <tbody>\n",
       "    <tr>\n",
       "      <th>mean</th>\n",
       "      <td>94.689209</td>\n",
       "      <td>1.935989</td>\n",
       "      <td>2872.204373</td>\n",
       "      <td>50.688187</td>\n",
       "      <td>1.832399</td>\n",
       "      <td>0.036648</td>\n",
       "      <td>0.420657</td>\n",
       "      <td>155.002934</td>\n",
       "      <td>-1.376375</td>\n",
       "      <td>356.294158</td>\n",
       "      <td>257.617976</td>\n",
       "    </tr>\n",
       "    <tr>\n",
       "      <th>std_err</th>\n",
       "      <td>0.005779</td>\n",
       "      <td>0.000125</td>\n",
       "      <td>0.170098</td>\n",
       "      <td>0.000026</td>\n",
       "      <td>0.000125</td>\n",
       "      <td>0.000003</td>\n",
       "      <td>0.000026</td>\n",
       "      <td>0.009180</td>\n",
       "      <td>0.000052</td>\n",
       "      <td>356.294158</td>\n",
       "      <td>257.617976</td>\n",
       "    </tr>\n",
       "    <tr>\n",
       "      <th>coef_var</th>\n",
       "      <td>0.491222</td>\n",
       "      <td>0.521104</td>\n",
       "      <td>0.476619</td>\n",
       "      <td>0.004089</td>\n",
       "      <td>0.550563</td>\n",
       "      <td>0.550563</td>\n",
       "      <td>0.492770</td>\n",
       "      <td>0.476619</td>\n",
       "      <td>-0.301208</td>\n",
       "      <td>356.294158</td>\n",
       "      <td>257.617976</td>\n",
       "    </tr>\n",
       "  </tbody>\n",
       "</table>\n",
       "</div>"
      ],
      "text/plain": [
       "             Time s  Axial Displacement mm  Axial Force N  Laser Ext mm  \\\n",
       "mean      94.689209               1.935989    2872.204373     50.688187   \n",
       "std_err    0.005779               0.000125       0.170098      0.000026   \n",
       "coef_var   0.491222               0.521104       0.476619      0.004089   \n",
       "\n",
       "          Shifted Axial Displacement mm  Std Calculated mm/mm  \\\n",
       "mean                           1.832399              0.036648   \n",
       "std_err                        0.000125              0.000003   \n",
       "coef_var                       0.550563              0.550563   \n",
       "\n",
       "          Axial Strain mm/mm  Axial Stress MPa  Laser Strain Quotient mm/mm  \\\n",
       "mean                0.420657        155.002934                    -1.376375   \n",
       "std_err             0.000026          0.009180                     0.000052   \n",
       "coef_var            0.492770          0.476619                    -0.301208   \n",
       "\n",
       "          Elastic Modulus  Ultimate Tensile Strength  \n",
       "mean           356.294158                 257.617976  \n",
       "std_err        356.294158                 257.617976  \n",
       "coef_var       356.294158                 257.617976  "
      ]
     },
     "execution_count": 450,
     "metadata": {},
     "output_type": "execute_result"
    }
   ],
   "source": [
    "data_summary['Elastic Modulus'] = elastic_modulus\n",
    "data_summary['Ultimate Tensile Strength'] = data['Axial Stress MPa'].max()\n",
    "data_summary"
   ]
  },
  {
   "cell_type": "markdown",
   "metadata": {},
   "source": [
    "## Plot #3\n",
    "Stress v. calculated strain \n",
    "find elastic modulus with calculated strain"
   ]
  },
  {
   "cell_type": "code",
   "execution_count": 462,
   "metadata": {},
   "outputs": [
    {
     "data": {
      "image/png": "[encoded data removed]",
      "text/plain": [
       "<Figure size 640x480 with 1 Axes>"
      ]
     },
     "metadata": {},
     "output_type": "display_data"
    }
   ],
   "source": [
    "x1 = data['Std Calculated mm/mm']\n",
    "x2 = data['Axial Strain mm/mm']\n",
    "y = data['Axial Stress MPa']\n",
    "plt.xlabel('Strain (mm/mm)')\n",
    "plt.ylabel('Stress (MPa)')\n",
    "plt.plot(x1,x2,y)\n",
    "plt.savefig('D:\\\\National Research Council of Canada\\\\Testing Data\\\\Quasi-isotropic_organized\\\\QI1 bottom\\\\QIbottom_strains_v_stress.png', dpi = 300)"
   ]
  },
  {
   "cell_type": "markdown",
   "metadata": {},
   "source": [
    "## Write out to csv"
   ]
  },
  {
   "cell_type": "code",
   "execution_count": 451,
   "metadata": {},
   "outputs": [],
   "source": [
    "data.to_csv('D:\\\\National Research Council of Canada\\\\Testing Data\\\\Quasi-isotropic_organized\\\\QI1 bottom\\\\QI1bottom_cleaned_data.csv')\n",
    "data_summary.to_csv('D:\\\\National Research Council of Canada\\\\Testing Data\\\\Quasi-isotropic_organized\\\\QI1 bottom\\\\QI1bottom_Summary_Table.csv')"
   ]
  },
  {
   "cell_type": "markdown",
   "metadata": {},
   "source": [
    "## Plot #3\n",
    "Displacement vs. Strain"
   ]
  },
  {
   "cell_type": "code",
   "execution_count": 452,
   "metadata": {},
   "outputs": [
    {
     "data": {
      "image/png": "[encoded data removed]",
      "text/plain": [
       "<Figure size 640x480 with 1 Axes>"
      ]
     },
     "metadata": {},
     "output_type": "display_data"
    }
   ],
   "source": [
    "x1 = data['Shifted Axial Displacement mm']\n",
    "y1 = data['Axial Strain mm/mm']\n",
    "y2 = data['Std Calculated mm/mm']\n",
    "plt.xlabel('Displacement (mm)')\n",
    "plt.ylabel('Strain (mm/mm)')\n",
    "plt.grid(False)\n",
    "plt.plot(x1,y1, label = 'Axial Actual Strain')\n",
    "plt.plot(x1,y2, label = 'Calculated Strain (Laser)')\n",
    "plt.legend()\n",
    "plt.savefig('D:\\\\National Research Council of Canada\\\\Testing Data\\\\Quasi-isotropic_organized\\\\QI1 bottom\\\\QI1bottom_displacement_strain.png', dpi = 300)"
   ]
  },
  {
   "cell_type": "markdown",
   "metadata": {},
   "source": [
    "## Plot #4\n",
    "Calculated strain vs. stress"
   ]
  },
  {
   "cell_type": "code",
   "execution_count": 453,
   "metadata": {},
   "outputs": [
    {
     "data": {
      "image/png": "[encoded data removed]",
      "text/plain": [
       "<Figure size 640x480 with 1 Axes>"
      ]
     },
     "metadata": {},
     "output_type": "display_data"
    }
   ],
   "source": [
    "x = data['Std Calculated mm/mm']\n",
    "y = data['Axial Stress MPa']\n",
    "plt.xlabel('Calculated Strain (mm/mm)')\n",
    "plt.ylabel('Stress (MPa)')\n",
    "plt.plot(x,y)\n",
    "plt.tick_params(direction = 'out', length = 6, width = 2, colors = 'black')\n",
    "plt.savefig('D:\\\\National Research Council of Canada\\\\Testing Data\\\\Quasi-isotropic_organized\\\\QI1 bottom\\\\QI1bottom_calc_strain_stress.png', dpi = 300)\n"
   ]
  }
 ],
 "metadata": {
  "kernelspec": {
   "display_name": "Python 3",
   "language": "python",
   "name": "python3"
  },
  "language_info": {
   "codemirror_mode": {
    "name": "ipython",
    "version": 3
   },
   "file_extension": ".py",
   "mimetype": "text/x-python",
   "name": "python",
   "nbconvert_exporter": "python",
   "pygments_lexer": "ipython3",
   "version": "3.8.5"
  }
 },
 "nbformat": 4,
 "nbformat_minor": 4
}
